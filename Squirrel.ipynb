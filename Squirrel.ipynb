{
 "cells": [
  {
   "cell_type": "code",
   "execution_count": 113,
   "id": "6e776193",
   "metadata": {},
   "outputs": [],
   "source": [
    "import pandas as pd \n",
    "import matplotlib.pyplot as plt \n",
    "import seaborn as sns\n",
    "from datetime import datetime"
   ]
  },
  {
   "cell_type": "code",
   "execution_count": 114,
   "id": "6301231c",
   "metadata": {},
   "outputs": [],
   "source": [
    "df = pd.read_csv('2018_Central_Park_Squirrel_Census_-_Hectare_Data_20250826.csv')\n"
   ]
  },
  {
   "cell_type": "code",
   "execution_count": 115,
   "id": "aaa5dda8",
   "metadata": {},
   "outputs": [
    {
     "data": {
      "text/html": [
       "<div>\n",
       "<style scoped>\n",
       "    .dataframe tbody tr th:only-of-type {\n",
       "        vertical-align: middle;\n",
       "    }\n",
       "\n",
       "    .dataframe tbody tr th {\n",
       "        vertical-align: top;\n",
       "    }\n",
       "\n",
       "    .dataframe thead th {\n",
       "        text-align: right;\n",
       "    }\n",
       "</style>\n",
       "<table border=\"1\" class=\"dataframe\">\n",
       "  <thead>\n",
       "    <tr style=\"text-align: right;\">\n",
       "      <th></th>\n",
       "      <th>Hectare</th>\n",
       "      <th>Shift</th>\n",
       "      <th>Date</th>\n",
       "      <th>Anonymized Sighter</th>\n",
       "      <th>Sighter Observed Weather Data</th>\n",
       "      <th>Litter</th>\n",
       "      <th>Litter Notes</th>\n",
       "      <th>Other Animal Sightings</th>\n",
       "      <th>Hectare Conditions</th>\n",
       "      <th>Hectare Conditions Notes</th>\n",
       "      <th>Number of sighters</th>\n",
       "      <th>Number of Squirrels</th>\n",
       "      <th>Total Time of Sighting</th>\n",
       "    </tr>\n",
       "  </thead>\n",
       "  <tbody>\n",
       "    <tr>\n",
       "      <th>0</th>\n",
       "      <td>01A</td>\n",
       "      <td>AM</td>\n",
       "      <td>10072018</td>\n",
       "      <td>110.0</td>\n",
       "      <td>70º F, Foggy</td>\n",
       "      <td>Some</td>\n",
       "      <td>NaN</td>\n",
       "      <td>Humans, Pigeons</td>\n",
       "      <td>Busy</td>\n",
       "      <td>NaN</td>\n",
       "      <td>1</td>\n",
       "      <td>4</td>\n",
       "      <td>22.0</td>\n",
       "    </tr>\n",
       "    <tr>\n",
       "      <th>1</th>\n",
       "      <td>01A</td>\n",
       "      <td>PM</td>\n",
       "      <td>10142018</td>\n",
       "      <td>177.0</td>\n",
       "      <td>54º F, overcast</td>\n",
       "      <td>Abundant</td>\n",
       "      <td>NaN</td>\n",
       "      <td>Humans, Pigeons</td>\n",
       "      <td>Busy</td>\n",
       "      <td>NaN</td>\n",
       "      <td>1</td>\n",
       "      <td>7</td>\n",
       "      <td>26.0</td>\n",
       "    </tr>\n",
       "    <tr>\n",
       "      <th>2</th>\n",
       "      <td>01B</td>\n",
       "      <td>AM</td>\n",
       "      <td>10122018</td>\n",
       "      <td>11.0</td>\n",
       "      <td>60º F, sunny</td>\n",
       "      <td>Some</td>\n",
       "      <td>NaN</td>\n",
       "      <td>Humans, Dogs, Pigeons, Horses</td>\n",
       "      <td>Busy</td>\n",
       "      <td>NaN</td>\n",
       "      <td>1</td>\n",
       "      <td>17</td>\n",
       "      <td>23.0</td>\n",
       "    </tr>\n",
       "    <tr>\n",
       "      <th>3</th>\n",
       "      <td>01B</td>\n",
       "      <td>PM</td>\n",
       "      <td>10192018</td>\n",
       "      <td>109.0</td>\n",
       "      <td>59.8º F, Sun, Cool</td>\n",
       "      <td>Some</td>\n",
       "      <td>NaN</td>\n",
       "      <td>Humans, Dogs, Pigeons, Sparrow, Blue jay</td>\n",
       "      <td>Busy</td>\n",
       "      <td>NaN</td>\n",
       "      <td>1</td>\n",
       "      <td>10</td>\n",
       "      <td>35.0</td>\n",
       "    </tr>\n",
       "    <tr>\n",
       "      <th>4</th>\n",
       "      <td>01C</td>\n",
       "      <td>PM</td>\n",
       "      <td>10132018</td>\n",
       "      <td>241.0</td>\n",
       "      <td>55° F, Partly Cloudy</td>\n",
       "      <td>NaN</td>\n",
       "      <td>NaN</td>\n",
       "      <td>Humans, Dogs, Pigeons, Birds</td>\n",
       "      <td>Busy</td>\n",
       "      <td>NaN</td>\n",
       "      <td>1</td>\n",
       "      <td>10</td>\n",
       "      <td>25.0</td>\n",
       "    </tr>\n",
       "  </tbody>\n",
       "</table>\n",
       "</div>"
      ],
      "text/plain": [
       "  Hectare Shift      Date  Anonymized Sighter Sighter Observed Weather Data  \\\n",
       "0     01A    AM  10072018               110.0                  70º F, Foggy   \n",
       "1     01A    PM  10142018               177.0               54º F, overcast   \n",
       "2     01B    AM  10122018                11.0                  60º F, sunny   \n",
       "3     01B    PM  10192018               109.0            59.8º F, Sun, Cool   \n",
       "4     01C    PM  10132018               241.0          55° F, Partly Cloudy   \n",
       "\n",
       "     Litter Litter Notes                    Other Animal Sightings  \\\n",
       "0      Some          NaN                           Humans, Pigeons   \n",
       "1  Abundant          NaN                           Humans, Pigeons   \n",
       "2      Some          NaN             Humans, Dogs, Pigeons, Horses   \n",
       "3      Some          NaN  Humans, Dogs, Pigeons, Sparrow, Blue jay   \n",
       "4       NaN          NaN              Humans, Dogs, Pigeons, Birds   \n",
       "\n",
       "  Hectare Conditions Hectare Conditions Notes  Number of sighters  \\\n",
       "0               Busy                      NaN                   1   \n",
       "1               Busy                      NaN                   1   \n",
       "2               Busy                      NaN                   1   \n",
       "3               Busy                      NaN                   1   \n",
       "4               Busy                      NaN                   1   \n",
       "\n",
       "   Number of Squirrels  Total Time of Sighting  \n",
       "0                    4                    22.0  \n",
       "1                    7                    26.0  \n",
       "2                   17                    23.0  \n",
       "3                   10                    35.0  \n",
       "4                   10                    25.0  "
      ]
     },
     "execution_count": 115,
     "metadata": {},
     "output_type": "execute_result"
    }
   ],
   "source": [
    "df.head()"
   ]
  },
  {
   "cell_type": "code",
   "execution_count": 116,
   "id": "4a11aae6",
   "metadata": {},
   "outputs": [
    {
     "data": {
      "text/html": [
       "<div>\n",
       "<style scoped>\n",
       "    .dataframe tbody tr th:only-of-type {\n",
       "        vertical-align: middle;\n",
       "    }\n",
       "\n",
       "    .dataframe tbody tr th {\n",
       "        vertical-align: top;\n",
       "    }\n",
       "\n",
       "    .dataframe thead th {\n",
       "        text-align: right;\n",
       "    }\n",
       "</style>\n",
       "<table border=\"1\" class=\"dataframe\">\n",
       "  <thead>\n",
       "    <tr style=\"text-align: right;\">\n",
       "      <th></th>\n",
       "      <th>Hectare</th>\n",
       "      <th>Shift</th>\n",
       "      <th>Date</th>\n",
       "      <th>Anonymized Sighter</th>\n",
       "      <th>Sighter Observed Weather Data</th>\n",
       "      <th>Litter</th>\n",
       "      <th>Litter Notes</th>\n",
       "      <th>Other Animal Sightings</th>\n",
       "      <th>Hectare Conditions</th>\n",
       "      <th>Hectare Conditions Notes</th>\n",
       "      <th>Number of sighters</th>\n",
       "      <th>Number of Squirrels</th>\n",
       "      <th>Total Time of Sighting</th>\n",
       "    </tr>\n",
       "  </thead>\n",
       "  <tbody>\n",
       "    <tr>\n",
       "      <th>0</th>\n",
       "      <td>01A</td>\n",
       "      <td>AM</td>\n",
       "      <td>10072018</td>\n",
       "      <td>110.0</td>\n",
       "      <td>70º F, Foggy</td>\n",
       "      <td>Some</td>\n",
       "      <td>NaN</td>\n",
       "      <td>Humans, Pigeons</td>\n",
       "      <td>Busy</td>\n",
       "      <td>NaN</td>\n",
       "      <td>1</td>\n",
       "      <td>4</td>\n",
       "      <td>22.0</td>\n",
       "    </tr>\n",
       "    <tr>\n",
       "      <th>1</th>\n",
       "      <td>01A</td>\n",
       "      <td>PM</td>\n",
       "      <td>10142018</td>\n",
       "      <td>177.0</td>\n",
       "      <td>54º F, overcast</td>\n",
       "      <td>Abundant</td>\n",
       "      <td>NaN</td>\n",
       "      <td>Humans, Pigeons</td>\n",
       "      <td>Busy</td>\n",
       "      <td>NaN</td>\n",
       "      <td>1</td>\n",
       "      <td>7</td>\n",
       "      <td>26.0</td>\n",
       "    </tr>\n",
       "    <tr>\n",
       "      <th>2</th>\n",
       "      <td>01B</td>\n",
       "      <td>AM</td>\n",
       "      <td>10122018</td>\n",
       "      <td>11.0</td>\n",
       "      <td>60º F, sunny</td>\n",
       "      <td>Some</td>\n",
       "      <td>NaN</td>\n",
       "      <td>Humans, Dogs, Pigeons, Horses</td>\n",
       "      <td>Busy</td>\n",
       "      <td>NaN</td>\n",
       "      <td>1</td>\n",
       "      <td>17</td>\n",
       "      <td>23.0</td>\n",
       "    </tr>\n",
       "    <tr>\n",
       "      <th>3</th>\n",
       "      <td>01B</td>\n",
       "      <td>PM</td>\n",
       "      <td>10192018</td>\n",
       "      <td>109.0</td>\n",
       "      <td>59.8º F, Sun, Cool</td>\n",
       "      <td>Some</td>\n",
       "      <td>NaN</td>\n",
       "      <td>Humans, Dogs, Pigeons, Sparrow, Blue jay</td>\n",
       "      <td>Busy</td>\n",
       "      <td>NaN</td>\n",
       "      <td>1</td>\n",
       "      <td>10</td>\n",
       "      <td>35.0</td>\n",
       "    </tr>\n",
       "    <tr>\n",
       "      <th>4</th>\n",
       "      <td>01C</td>\n",
       "      <td>PM</td>\n",
       "      <td>10132018</td>\n",
       "      <td>241.0</td>\n",
       "      <td>55° F, Partly Cloudy</td>\n",
       "      <td>NaN</td>\n",
       "      <td>NaN</td>\n",
       "      <td>Humans, Dogs, Pigeons, Birds</td>\n",
       "      <td>Busy</td>\n",
       "      <td>NaN</td>\n",
       "      <td>1</td>\n",
       "      <td>10</td>\n",
       "      <td>25.0</td>\n",
       "    </tr>\n",
       "  </tbody>\n",
       "</table>\n",
       "</div>"
      ],
      "text/plain": [
       "  Hectare Shift      Date  Anonymized Sighter Sighter Observed Weather Data  \\\n",
       "0     01A    AM  10072018               110.0                  70º F, Foggy   \n",
       "1     01A    PM  10142018               177.0               54º F, overcast   \n",
       "2     01B    AM  10122018                11.0                  60º F, sunny   \n",
       "3     01B    PM  10192018               109.0            59.8º F, Sun, Cool   \n",
       "4     01C    PM  10132018               241.0          55° F, Partly Cloudy   \n",
       "\n",
       "     Litter Litter Notes                    Other Animal Sightings  \\\n",
       "0      Some          NaN                           Humans, Pigeons   \n",
       "1  Abundant          NaN                           Humans, Pigeons   \n",
       "2      Some          NaN             Humans, Dogs, Pigeons, Horses   \n",
       "3      Some          NaN  Humans, Dogs, Pigeons, Sparrow, Blue jay   \n",
       "4       NaN          NaN              Humans, Dogs, Pigeons, Birds   \n",
       "\n",
       "  Hectare Conditions Hectare Conditions Notes  Number of sighters  \\\n",
       "0               Busy                      NaN                   1   \n",
       "1               Busy                      NaN                   1   \n",
       "2               Busy                      NaN                   1   \n",
       "3               Busy                      NaN                   1   \n",
       "4               Busy                      NaN                   1   \n",
       "\n",
       "   Number of Squirrels  Total Time of Sighting  \n",
       "0                    4                    22.0  \n",
       "1                    7                    26.0  \n",
       "2                   17                    23.0  \n",
       "3                   10                    35.0  \n",
       "4                   10                    25.0  "
      ]
     },
     "execution_count": 116,
     "metadata": {},
     "output_type": "execute_result"
    }
   ],
   "source": [
    "df.head()"
   ]
  },
  {
   "cell_type": "code",
   "execution_count": 117,
   "id": "dcb1c91d",
   "metadata": {},
   "outputs": [
    {
     "data": {
      "text/html": [
       "<div>\n",
       "<style scoped>\n",
       "    .dataframe tbody tr th:only-of-type {\n",
       "        vertical-align: middle;\n",
       "    }\n",
       "\n",
       "    .dataframe tbody tr th {\n",
       "        vertical-align: top;\n",
       "    }\n",
       "\n",
       "    .dataframe thead th {\n",
       "        text-align: right;\n",
       "    }\n",
       "</style>\n",
       "<table border=\"1\" class=\"dataframe\">\n",
       "  <thead>\n",
       "    <tr style=\"text-align: right;\">\n",
       "      <th></th>\n",
       "      <th>Hectare</th>\n",
       "      <th>Shift</th>\n",
       "      <th>Date</th>\n",
       "      <th>Anonymized Sighter</th>\n",
       "      <th>Sighter Observed Weather Data</th>\n",
       "      <th>Litter</th>\n",
       "      <th>Litter Notes</th>\n",
       "      <th>Other Animal Sightings</th>\n",
       "      <th>Hectare Conditions</th>\n",
       "      <th>Hectare Conditions Notes</th>\n",
       "      <th>Number of sighters</th>\n",
       "      <th>Number of Squirrels</th>\n",
       "      <th>Total Time of Sighting</th>\n",
       "    </tr>\n",
       "  </thead>\n",
       "  <tbody>\n",
       "    <tr>\n",
       "      <th>695</th>\n",
       "      <td>09A</td>\n",
       "      <td>AM</td>\n",
       "      <td>10132018</td>\n",
       "      <td>1.791802e+08</td>\n",
       "      <td>NaN</td>\n",
       "      <td>Some</td>\n",
       "      <td>NaN</td>\n",
       "      <td>Humans, Dogs, Pigeons, Rats, Blue jays</td>\n",
       "      <td>Busy</td>\n",
       "      <td>NaN</td>\n",
       "      <td>3</td>\n",
       "      <td>12</td>\n",
       "      <td>20.0</td>\n",
       "    </tr>\n",
       "    <tr>\n",
       "      <th>696</th>\n",
       "      <td>11F</td>\n",
       "      <td>PM</td>\n",
       "      <td>10062018</td>\n",
       "      <td>1.680000e+02</td>\n",
       "      <td>NaN</td>\n",
       "      <td>Some</td>\n",
       "      <td>NaN</td>\n",
       "      <td>Humans, Dogs, Pigeons</td>\n",
       "      <td>Busy</td>\n",
       "      <td>NaN</td>\n",
       "      <td>3</td>\n",
       "      <td>3</td>\n",
       "      <td>26.0</td>\n",
       "    </tr>\n",
       "    <tr>\n",
       "      <th>697</th>\n",
       "      <td>12G</td>\n",
       "      <td>PM</td>\n",
       "      <td>10072018</td>\n",
       "      <td>1.061071e+02</td>\n",
       "      <td>80º F</td>\n",
       "      <td>NaN</td>\n",
       "      <td>NaN</td>\n",
       "      <td>Humans, Cat bird</td>\n",
       "      <td>Busy</td>\n",
       "      <td>NaN</td>\n",
       "      <td>3</td>\n",
       "      <td>7</td>\n",
       "      <td>29.0</td>\n",
       "    </tr>\n",
       "    <tr>\n",
       "      <th>698</th>\n",
       "      <td>12H</td>\n",
       "      <td>PM</td>\n",
       "      <td>10072018</td>\n",
       "      <td>1.061071e+02</td>\n",
       "      <td>79º F</td>\n",
       "      <td>NaN</td>\n",
       "      <td>NaN</td>\n",
       "      <td>Humans, Sparrows</td>\n",
       "      <td>Busy</td>\n",
       "      <td>NaN</td>\n",
       "      <td>3</td>\n",
       "      <td>8</td>\n",
       "      <td>30.0</td>\n",
       "    </tr>\n",
       "    <tr>\n",
       "      <th>699</th>\n",
       "      <td>26A</td>\n",
       "      <td>PM</td>\n",
       "      <td>10062018</td>\n",
       "      <td>1.850000e+02</td>\n",
       "      <td>NaN</td>\n",
       "      <td>NaN</td>\n",
       "      <td>NaN</td>\n",
       "      <td>Horse, Pony</td>\n",
       "      <td>NaN</td>\n",
       "      <td>NaN</td>\n",
       "      <td>3</td>\n",
       "      <td>6</td>\n",
       "      <td>30.0</td>\n",
       "    </tr>\n",
       "  </tbody>\n",
       "</table>\n",
       "</div>"
      ],
      "text/plain": [
       "    Hectare Shift      Date  Anonymized Sighter Sighter Observed Weather Data  \\\n",
       "695     09A    AM  10132018        1.791802e+08                           NaN   \n",
       "696     11F    PM  10062018        1.680000e+02                           NaN   \n",
       "697     12G    PM  10072018        1.061071e+02                         80º F   \n",
       "698     12H    PM  10072018        1.061071e+02                         79º F   \n",
       "699     26A    PM  10062018        1.850000e+02                           NaN   \n",
       "\n",
       "    Litter Litter Notes                  Other Animal Sightings  \\\n",
       "695   Some          NaN  Humans, Dogs, Pigeons, Rats, Blue jays   \n",
       "696   Some          NaN                   Humans, Dogs, Pigeons   \n",
       "697    NaN          NaN                        Humans, Cat bird   \n",
       "698    NaN          NaN                        Humans, Sparrows   \n",
       "699    NaN          NaN                             Horse, Pony   \n",
       "\n",
       "    Hectare Conditions Hectare Conditions Notes  Number of sighters  \\\n",
       "695               Busy                      NaN                   3   \n",
       "696               Busy                      NaN                   3   \n",
       "697               Busy                      NaN                   3   \n",
       "698               Busy                      NaN                   3   \n",
       "699                NaN                      NaN                   3   \n",
       "\n",
       "     Number of Squirrels  Total Time of Sighting  \n",
       "695                   12                    20.0  \n",
       "696                    3                    26.0  \n",
       "697                    7                    29.0  \n",
       "698                    8                    30.0  \n",
       "699                    6                    30.0  "
      ]
     },
     "execution_count": 117,
     "metadata": {},
     "output_type": "execute_result"
    }
   ],
   "source": [
    "df.tail(5)"
   ]
  },
  {
   "cell_type": "code",
   "execution_count": 118,
   "id": "70a75126",
   "metadata": {},
   "outputs": [
    {
     "data": {
      "text/html": [
       "<div>\n",
       "<style scoped>\n",
       "    .dataframe tbody tr th:only-of-type {\n",
       "        vertical-align: middle;\n",
       "    }\n",
       "\n",
       "    .dataframe tbody tr th {\n",
       "        vertical-align: top;\n",
       "    }\n",
       "\n",
       "    .dataframe thead th {\n",
       "        text-align: right;\n",
       "    }\n",
       "</style>\n",
       "<table border=\"1\" class=\"dataframe\">\n",
       "  <thead>\n",
       "    <tr style=\"text-align: right;\">\n",
       "      <th></th>\n",
       "      <th>Date</th>\n",
       "      <th>Anonymized Sighter</th>\n",
       "      <th>Number of sighters</th>\n",
       "      <th>Number of Squirrels</th>\n",
       "      <th>Total Time of Sighting</th>\n",
       "    </tr>\n",
       "  </thead>\n",
       "  <tbody>\n",
       "    <tr>\n",
       "      <th>count</th>\n",
       "      <td>7.000000e+02</td>\n",
       "      <td>7.000000e+02</td>\n",
       "      <td>700.000000</td>\n",
       "      <td>700.000000</td>\n",
       "      <td>680.000000</td>\n",
       "    </tr>\n",
       "    <tr>\n",
       "      <th>mean</th>\n",
       "      <td>1.012160e+07</td>\n",
       "      <td>7.261435e+05</td>\n",
       "      <td>1.142857</td>\n",
       "      <td>4.317143</td>\n",
       "      <td>24.907353</td>\n",
       "    </tr>\n",
       "    <tr>\n",
       "      <th>std</th>\n",
       "      <td>4.328731e+04</td>\n",
       "      <td>1.096542e+07</td>\n",
       "      <td>0.388891</td>\n",
       "      <td>3.559748</td>\n",
       "      <td>6.916839</td>\n",
       "    </tr>\n",
       "    <tr>\n",
       "      <th>min</th>\n",
       "      <td>1.006202e+07</td>\n",
       "      <td>1.000000e+00</td>\n",
       "      <td>1.000000</td>\n",
       "      <td>0.000000</td>\n",
       "      <td>1.000000</td>\n",
       "    </tr>\n",
       "    <tr>\n",
       "      <th>25%</th>\n",
       "      <td>1.008202e+07</td>\n",
       "      <td>8.000000e+01</td>\n",
       "      <td>1.000000</td>\n",
       "      <td>2.000000</td>\n",
       "      <td>20.000000</td>\n",
       "    </tr>\n",
       "    <tr>\n",
       "      <th>50%</th>\n",
       "      <td>1.012702e+07</td>\n",
       "      <td>1.550000e+02</td>\n",
       "      <td>1.000000</td>\n",
       "      <td>4.000000</td>\n",
       "      <td>24.000000</td>\n",
       "    </tr>\n",
       "    <tr>\n",
       "      <th>75%</th>\n",
       "      <td>1.014202e+07</td>\n",
       "      <td>2.400000e+02</td>\n",
       "      <td>1.000000</td>\n",
       "      <td>6.000000</td>\n",
       "      <td>26.000000</td>\n",
       "    </tr>\n",
       "    <tr>\n",
       "      <th>max</th>\n",
       "      <td>1.020202e+07</td>\n",
       "      <td>1.791802e+08</td>\n",
       "      <td>3.000000</td>\n",
       "      <td>23.000000</td>\n",
       "      <td>70.000000</td>\n",
       "    </tr>\n",
       "  </tbody>\n",
       "</table>\n",
       "</div>"
      ],
      "text/plain": [
       "               Date  Anonymized Sighter  Number of sighters  \\\n",
       "count  7.000000e+02        7.000000e+02          700.000000   \n",
       "mean   1.012160e+07        7.261435e+05            1.142857   \n",
       "std    4.328731e+04        1.096542e+07            0.388891   \n",
       "min    1.006202e+07        1.000000e+00            1.000000   \n",
       "25%    1.008202e+07        8.000000e+01            1.000000   \n",
       "50%    1.012702e+07        1.550000e+02            1.000000   \n",
       "75%    1.014202e+07        2.400000e+02            1.000000   \n",
       "max    1.020202e+07        1.791802e+08            3.000000   \n",
       "\n",
       "       Number of Squirrels  Total Time of Sighting  \n",
       "count           700.000000              680.000000  \n",
       "mean              4.317143               24.907353  \n",
       "std               3.559748                6.916839  \n",
       "min               0.000000                1.000000  \n",
       "25%               2.000000               20.000000  \n",
       "50%               4.000000               24.000000  \n",
       "75%               6.000000               26.000000  \n",
       "max              23.000000               70.000000  "
      ]
     },
     "execution_count": 118,
     "metadata": {},
     "output_type": "execute_result"
    }
   ],
   "source": [
    "df.describe()"
   ]
  },
  {
   "cell_type": "code",
   "execution_count": 119,
   "id": "89371ff5",
   "metadata": {},
   "outputs": [
    {
     "name": "stdout",
     "output_type": "stream",
     "text": [
      "<class 'pandas.core.frame.DataFrame'>\n",
      "RangeIndex: 700 entries, 0 to 699\n",
      "Data columns (total 13 columns):\n",
      " #   Column                         Non-Null Count  Dtype  \n",
      "---  ------                         --------------  -----  \n",
      " 0   Hectare                        700 non-null    object \n",
      " 1   Shift                          700 non-null    object \n",
      " 2   Date                           700 non-null    int64  \n",
      " 3   Anonymized Sighter             700 non-null    float64\n",
      " 4   Sighter Observed Weather Data  681 non-null    object \n",
      " 5   Litter                         319 non-null    object \n",
      " 6   Litter Notes                   6 non-null      object \n",
      " 7   Other Animal Sightings         668 non-null    object \n",
      " 8   Hectare Conditions             660 non-null    object \n",
      " 9   Hectare Conditions Notes       74 non-null     object \n",
      " 10  Number of sighters             700 non-null    int64  \n",
      " 11  Number of Squirrels            700 non-null    int64  \n",
      " 12  Total Time of Sighting         680 non-null    float64\n",
      "dtypes: float64(2), int64(3), object(8)\n",
      "memory usage: 71.2+ KB\n"
     ]
    }
   ],
   "source": [
    "df.info()"
   ]
  },
  {
   "cell_type": "code",
   "execution_count": 120,
   "id": "f8fdc158",
   "metadata": {},
   "outputs": [
    {
     "data": {
      "text/plain": [
       "Index(['Hectare', 'Shift', 'Date', 'Anonymized Sighter',\n",
       "       'Sighter Observed Weather Data', 'Litter', 'Litter Notes',\n",
       "       'Other Animal Sightings', 'Hectare Conditions',\n",
       "       'Hectare Conditions Notes', 'Number of sighters', 'Number of Squirrels',\n",
       "       'Total Time of Sighting'],\n",
       "      dtype='object')"
      ]
     },
     "execution_count": 120,
     "metadata": {},
     "output_type": "execute_result"
    }
   ],
   "source": [
    "df.columns"
   ]
  },
  {
   "cell_type": "code",
   "execution_count": 121,
   "id": "a3e82826",
   "metadata": {},
   "outputs": [
    {
     "data": {
      "text/plain": [
       "Hectare                            0\n",
       "Shift                              0\n",
       "Date                               0\n",
       "Anonymized Sighter                 0\n",
       "Sighter Observed Weather Data     19\n",
       "Litter                           381\n",
       "Litter Notes                     694\n",
       "Other Animal Sightings            32\n",
       "Hectare Conditions                40\n",
       "Hectare Conditions Notes         626\n",
       "Number of sighters                 0\n",
       "Number of Squirrels                0\n",
       "Total Time of Sighting            20\n",
       "dtype: int64"
      ]
     },
     "execution_count": 121,
     "metadata": {},
     "output_type": "execute_result"
    }
   ],
   "source": [
    "df.isnull().sum()"
   ]
  },
  {
   "cell_type": "code",
   "execution_count": 122,
   "id": "837cdab1",
   "metadata": {},
   "outputs": [
    {
     "data": {
      "text/plain": [
       "Litter Notes\n",
       "2-3 pieces               1\n",
       "1 reusable bag           1\n",
       "1 piece of plastic       1\n",
       "1 plastic bag            1\n",
       "Beer party can debris    1\n",
       "On street                1\n",
       "Name: count, dtype: int64"
      ]
     },
     "execution_count": 122,
     "metadata": {},
     "output_type": "execute_result"
    }
   ],
   "source": [
    "df['Litter Notes'].value_counts()"
   ]
  },
  {
   "cell_type": "code",
   "execution_count": 123,
   "id": "6ef36ec8",
   "metadata": {},
   "outputs": [
    {
     "data": {
      "text/plain": [
       "np.int64(694)"
      ]
     },
     "execution_count": 123,
     "metadata": {},
     "output_type": "execute_result"
    }
   ],
   "source": [
    "df['Litter Notes'].isnull().sum()"
   ]
  },
  {
   "cell_type": "code",
   "execution_count": 124,
   "id": "ff485b5a",
   "metadata": {},
   "outputs": [
    {
     "data": {
      "text/plain": [
       "Other Animal Sightings\n",
       "Humans, Dogs                                                               177\n",
       "Humans                                                                      59\n",
       "Humans, Dogs, Pigeons                                                       42\n",
       "Humans, Dogs, Birds                                                         38\n",
       "Humans, Dogs, Small birds                                                   14\n",
       "                                                                          ... \n",
       "Humans, Dogs, Birds, but less Robins, Sparrows, Crows, Sterlings, Doves      1\n",
       "Humans, Dogs, Robins, starling, Mourning dove, Finches, Sparrows             1\n",
       "Humans, Blue jays, Cardinals, Sparrows, Titmice                              1\n",
       "Humans, Dogs, Pigeons, Robins, Blackbirds, Sparrows                          1\n",
       "Humans, Dogs, Yoga Class                                                     1\n",
       "Name: count, Length: 263, dtype: int64"
      ]
     },
     "execution_count": 124,
     "metadata": {},
     "output_type": "execute_result"
    }
   ],
   "source": [
    "df['Other Animal Sightings'].value_counts()"
   ]
  },
  {
   "cell_type": "code",
   "execution_count": 125,
   "id": "30aba4e6",
   "metadata": {},
   "outputs": [
    {
     "data": {
      "text/plain": [
       "Hectare Conditions\n",
       "Busy          362\n",
       "Calm          253\n",
       "Moderate       26\n",
       "Calm, Busy     18\n",
       "Medium          1\n",
       "Name: count, dtype: int64"
      ]
     },
     "execution_count": 125,
     "metadata": {},
     "output_type": "execute_result"
    }
   ],
   "source": [
    "df['Hectare Conditions'].value_counts()"
   ]
  },
  {
   "cell_type": "code",
   "execution_count": 126,
   "id": "32d02d7e",
   "metadata": {},
   "outputs": [
    {
     "data": {
      "text/plain": [
       "Hectare Conditions Notes\n",
       "kinde (sic)                                         1\n",
       "T/V busy with cars. Lots on dogs in ball fields.    1\n",
       "Sheep Meadow Closed!                                1\n",
       "Construction                                        1\n",
       "Humans quietly walking polite dogs. dog run.        1\n",
       "                                                   ..\n",
       "Fenced Areas / West Drive                           1\n",
       "In between                                          1\n",
       "In between calm and busy                            1\n",
       "Calm on grass. Busy on road.                        1\n",
       "Calm (in forest), Busy (near road)                  1\n",
       "Name: count, Length: 74, dtype: int64"
      ]
     },
     "execution_count": 126,
     "metadata": {},
     "output_type": "execute_result"
    }
   ],
   "source": [
    "df['Hectare Conditions Notes'].value_counts()"
   ]
  },
  {
   "cell_type": "code",
   "execution_count": 127,
   "id": "62f62855",
   "metadata": {},
   "outputs": [
    {
     "data": {
      "text/plain": [
       "Number of sighters\n",
       "1    610\n",
       "2     80\n",
       "3     10\n",
       "Name: count, dtype: int64"
      ]
     },
     "execution_count": 127,
     "metadata": {},
     "output_type": "execute_result"
    }
   ],
   "source": [
    "df['Number of sighters'].value_counts()"
   ]
  },
  {
   "cell_type": "code",
   "execution_count": 128,
   "id": "48df0d95",
   "metadata": {},
   "outputs": [
    {
     "data": {
      "text/plain": [
       "Number of Squirrels\n",
       "2     94\n",
       "0     86\n",
       "1     80\n",
       "4     78\n",
       "3     76\n",
       "5     64\n",
       "6     61\n",
       "7     42\n",
       "8     33\n",
       "9     32\n",
       "10    12\n",
       "12    10\n",
       "11     9\n",
       "13     7\n",
       "14     6\n",
       "16     4\n",
       "17     3\n",
       "15     2\n",
       "23     1\n",
       "Name: count, dtype: int64"
      ]
     },
     "execution_count": 128,
     "metadata": {},
     "output_type": "execute_result"
    }
   ],
   "source": [
    "df['Number of Squirrels'].value_counts()"
   ]
  },
  {
   "cell_type": "code",
   "execution_count": 129,
   "id": "9b1857b8",
   "metadata": {},
   "outputs": [],
   "source": [
    "df = df.drop(columns=[\"Hectare Conditions Notes\", \"Litter Notes\"])"
   ]
  },
  {
   "cell_type": "code",
   "execution_count": 130,
   "id": "ff7880d9",
   "metadata": {},
   "outputs": [
    {
     "data": {
      "text/plain": [
       "Index(['Hectare', 'Shift', 'Date', 'Anonymized Sighter',\n",
       "       'Sighter Observed Weather Data', 'Litter', 'Other Animal Sightings',\n",
       "       'Hectare Conditions', 'Number of sighters', 'Number of Squirrels',\n",
       "       'Total Time of Sighting'],\n",
       "      dtype='object')"
      ]
     },
     "execution_count": 130,
     "metadata": {},
     "output_type": "execute_result"
    }
   ],
   "source": [
    "df.columns"
   ]
  },
  {
   "cell_type": "code",
   "execution_count": 131,
   "id": "564d4d1a",
   "metadata": {},
   "outputs": [
    {
     "data": {
      "text/plain": [
       "Hectare                            0\n",
       "Shift                              0\n",
       "Date                               0\n",
       "Anonymized Sighter                 0\n",
       "Sighter Observed Weather Data     19\n",
       "Litter                           381\n",
       "Other Animal Sightings            32\n",
       "Hectare Conditions                40\n",
       "Number of sighters                 0\n",
       "Number of Squirrels                0\n",
       "Total Time of Sighting            20\n",
       "dtype: int64"
      ]
     },
     "execution_count": 131,
     "metadata": {},
     "output_type": "execute_result"
    }
   ],
   "source": [
    "df.isnull().sum()"
   ]
  },
  {
   "cell_type": "code",
   "execution_count": 132,
   "id": "17e6be8a",
   "metadata": {},
   "outputs": [
    {
     "data": {
      "text/plain": [
       "Litter\n",
       "Some        291\n",
       "Abundant     28\n",
       "Name: count, dtype: int64"
      ]
     },
     "execution_count": 132,
     "metadata": {},
     "output_type": "execute_result"
    }
   ],
   "source": [
    "df['Litter'].value_counts()"
   ]
  },
  {
   "cell_type": "code",
   "execution_count": 133,
   "id": "3b744629",
   "metadata": {},
   "outputs": [],
   "source": [
    "df[\"Litter\"] = df[\"Litter\"].fillna(\"None\")"
   ]
  },
  {
   "cell_type": "code",
   "execution_count": 134,
   "id": "e7f5b1d3",
   "metadata": {},
   "outputs": [
    {
     "data": {
      "text/plain": [
       "np.int64(0)"
      ]
     },
     "execution_count": 134,
     "metadata": {},
     "output_type": "execute_result"
    }
   ],
   "source": [
    "df['Litter'].isnull().sum()"
   ]
  },
  {
   "cell_type": "code",
   "execution_count": 135,
   "id": "af9e0e4b",
   "metadata": {},
   "outputs": [
    {
     "data": {
      "text/plain": [
       "Hectare                           0\n",
       "Shift                             0\n",
       "Date                              0\n",
       "Anonymized Sighter                0\n",
       "Sighter Observed Weather Data    19\n",
       "Litter                            0\n",
       "Other Animal Sightings           32\n",
       "Hectare Conditions               40\n",
       "Number of sighters                0\n",
       "Number of Squirrels               0\n",
       "Total Time of Sighting           20\n",
       "dtype: int64"
      ]
     },
     "execution_count": 135,
     "metadata": {},
     "output_type": "execute_result"
    }
   ],
   "source": [
    "df.isnull().sum()"
   ]
  },
  {
   "cell_type": "code",
   "execution_count": 136,
   "id": "39ba7428",
   "metadata": {},
   "outputs": [
    {
     "data": {
      "text/plain": [
       "Other Animal Sightings\n",
       "Humans, Dogs                 177\n",
       "Humans                        59\n",
       "Humans, Dogs, Pigeons         42\n",
       "Humans, Dogs, Birds           38\n",
       "Humans, Dogs, Small birds     14\n",
       "Humans, Hawks, Dogs           14\n",
       "Humans, Dogs, Sparrows         8\n",
       "Dogs                           7\n",
       "Humans, Dogs, Ducks            7\n",
       "Humans, Pigeons                6\n",
       "Name: count, dtype: int64"
      ]
     },
     "execution_count": 136,
     "metadata": {},
     "output_type": "execute_result"
    }
   ],
   "source": [
    "df['Other Animal Sightings'].value_counts().head(10)"
   ]
  },
  {
   "cell_type": "code",
   "execution_count": 137,
   "id": "a279a122",
   "metadata": {},
   "outputs": [],
   "source": [
    "df['Other Animal Sightings'] = df['Other Animal Sightings'].fillna('Missing')"
   ]
  },
  {
   "cell_type": "code",
   "execution_count": 138,
   "id": "aa3abb2e",
   "metadata": {},
   "outputs": [
    {
     "data": {
      "text/plain": [
       "Other Animal Sightings\n",
       "Humans, Dogs                     177\n",
       "Humans                            59\n",
       "Humans, Dogs, Pigeons             42\n",
       "Humans, Dogs, Birds               38\n",
       "Missing                           32\n",
       "Humans, Dogs, Small birds         14\n",
       "Humans, Hawks, Dogs               14\n",
       "Humans, Dogs, Sparrows             8\n",
       "Dogs                               7\n",
       "Humans, Dogs, Ducks                7\n",
       "Humans, Pigeons                    6\n",
       "Humans, Dogs, Pigeons, Birds       5\n",
       "Humans, Birds                      4\n",
       "Humans, Dogs, Pigeons, Horses      4\n",
       "Humans, Dogs, Chipmunk             4\n",
       "Humans, Dogs, Rat                  3\n",
       "Humans, Sparrows                   3\n",
       "Humans, Dogs, Horses               3\n",
       "Humans, Dogs, Robins               3\n",
       "Humans, Dogs, Geese                3\n",
       "Name: count, dtype: int64"
      ]
     },
     "execution_count": 138,
     "metadata": {},
     "output_type": "execute_result"
    }
   ],
   "source": [
    "df['Other Animal Sightings'].value_counts().head(20)"
   ]
  },
  {
   "cell_type": "code",
   "execution_count": 139,
   "id": "f8716488",
   "metadata": {},
   "outputs": [
    {
     "data": {
      "text/plain": [
       "Hectare                           0\n",
       "Shift                             0\n",
       "Date                              0\n",
       "Anonymized Sighter                0\n",
       "Sighter Observed Weather Data    19\n",
       "Litter                            0\n",
       "Other Animal Sightings            0\n",
       "Hectare Conditions               40\n",
       "Number of sighters                0\n",
       "Number of Squirrels               0\n",
       "Total Time of Sighting           20\n",
       "dtype: int64"
      ]
     },
     "execution_count": 139,
     "metadata": {},
     "output_type": "execute_result"
    }
   ],
   "source": [
    "df.isnull().sum()"
   ]
  },
  {
   "cell_type": "code",
   "execution_count": 140,
   "id": "94d31d68",
   "metadata": {},
   "outputs": [
    {
     "data": {
      "text/plain": [
       "Sighter Observed Weather Data\n",
       "57º F, overcast              10\n",
       "50º F, light rain             7\n",
       "50º F, mostly sunny           7\n",
       "57º F, cloudy                 7\n",
       "70º F, Overcast               6\n",
       "                             ..\n",
       "Mid 40s, Clear, No Wind       1\n",
       "65º F, Slightly Drizzling     1\n",
       "70º F, cloudy, misty          1\n",
       "70º F, cloudy                 1\n",
       "65º F, Drizzling              1\n",
       "Name: count, Length: 498, dtype: int64"
      ]
     },
     "execution_count": 140,
     "metadata": {},
     "output_type": "execute_result"
    }
   ],
   "source": [
    "df['Sighter Observed Weather Data'].value_counts()"
   ]
  },
  {
   "cell_type": "code",
   "execution_count": 141,
   "id": "f0b5f68f",
   "metadata": {},
   "outputs": [],
   "source": [
    "df['Sighter Observed Weather Data'] = df['Sighter Observed Weather Data'].fillna(\"Missing\")"
   ]
  },
  {
   "cell_type": "code",
   "execution_count": 142,
   "id": "6c6dcf29",
   "metadata": {},
   "outputs": [
    {
     "data": {
      "text/plain": [
       "Hectare                           0\n",
       "Shift                             0\n",
       "Date                              0\n",
       "Anonymized Sighter                0\n",
       "Sighter Observed Weather Data     0\n",
       "Litter                            0\n",
       "Other Animal Sightings            0\n",
       "Hectare Conditions               40\n",
       "Number of sighters                0\n",
       "Number of Squirrels               0\n",
       "Total Time of Sighting           20\n",
       "dtype: int64"
      ]
     },
     "execution_count": 142,
     "metadata": {},
     "output_type": "execute_result"
    }
   ],
   "source": [
    "df.isnull().sum()"
   ]
  },
  {
   "cell_type": "code",
   "execution_count": 143,
   "id": "f371d73b",
   "metadata": {},
   "outputs": [
    {
     "data": {
      "text/plain": [
       "Hectare Conditions\n",
       "Busy          362\n",
       "Calm          253\n",
       "Moderate       26\n",
       "Calm, Busy     18\n",
       "Medium          1\n",
       "Name: count, dtype: int64"
      ]
     },
     "execution_count": 143,
     "metadata": {},
     "output_type": "execute_result"
    }
   ],
   "source": [
    "df['Hectare Conditions'].value_counts()"
   ]
  },
  {
   "cell_type": "code",
   "execution_count": 144,
   "id": "2d0fc2b8",
   "metadata": {},
   "outputs": [
    {
     "data": {
      "text/plain": [
       "Hectare                           0\n",
       "Shift                             0\n",
       "Date                              0\n",
       "Anonymized Sighter                0\n",
       "Sighter Observed Weather Data     0\n",
       "Litter                            0\n",
       "Other Animal Sightings            0\n",
       "Hectare Conditions               40\n",
       "Number of sighters                0\n",
       "Number of Squirrels               0\n",
       "Total Time of Sighting           20\n",
       "dtype: int64"
      ]
     },
     "execution_count": 144,
     "metadata": {},
     "output_type": "execute_result"
    }
   ],
   "source": [
    "df.isnull().sum()"
   ]
  },
  {
   "cell_type": "code",
   "execution_count": 145,
   "id": "5f74ee35",
   "metadata": {},
   "outputs": [
    {
     "data": {
      "text/plain": [
       "0      1.100000e+02\n",
       "1      1.770000e+02\n",
       "2      1.100000e+01\n",
       "3      1.090000e+02\n",
       "4      2.410000e+02\n",
       "           ...     \n",
       "695    1.791802e+08\n",
       "696    1.680000e+02\n",
       "697    1.061071e+02\n",
       "698    1.061071e+02\n",
       "699    1.850000e+02\n",
       "Name: Anonymized Sighter, Length: 700, dtype: float64"
      ]
     },
     "execution_count": 145,
     "metadata": {},
     "output_type": "execute_result"
    }
   ],
   "source": [
    "df['Anonymized Sighter']"
   ]
  },
  {
   "cell_type": "code",
   "execution_count": 146,
   "id": "58c5ab8b",
   "metadata": {},
   "outputs": [
    {
     "data": {
      "text/plain": [
       "Hectare                           0\n",
       "Shift                             0\n",
       "Date                              0\n",
       "Anonymized Sighter                0\n",
       "Sighter Observed Weather Data     0\n",
       "Litter                            0\n",
       "Other Animal Sightings            0\n",
       "Hectare Conditions               40\n",
       "Number of sighters                0\n",
       "Number of Squirrels               0\n",
       "Total Time of Sighting           20\n",
       "dtype: int64"
      ]
     },
     "execution_count": 146,
     "metadata": {},
     "output_type": "execute_result"
    }
   ],
   "source": [
    "df.isnull().sum()"
   ]
  },
  {
   "cell_type": "code",
   "execution_count": 147,
   "id": "6886b12a",
   "metadata": {},
   "outputs": [
    {
     "data": {
      "text/plain": [
       "array(['Busy', 'Calm', nan, 'Moderate', 'Calm, Busy', 'Medium'],\n",
       "      dtype=object)"
      ]
     },
     "execution_count": 147,
     "metadata": {},
     "output_type": "execute_result"
    }
   ],
   "source": [
    "df['Hectare Conditions'].unique()"
   ]
  },
  {
   "cell_type": "code",
   "execution_count": 148,
   "id": "731ab129",
   "metadata": {},
   "outputs": [],
   "source": [
    "df['Hectare Conditions'] = df['Hectare Conditions'].fillna('Not recorded')"
   ]
  },
  {
   "cell_type": "code",
   "execution_count": 149,
   "id": "7de03754",
   "metadata": {},
   "outputs": [],
   "source": [
    "mode_duration = df['Total Time of Sighting'].mode()[0]\n",
    "mode_duration\n",
    "df['Total Time of Sighting'] = df['Total Time of Sighting'].fillna(mode_duration)"
   ]
  },
  {
   "cell_type": "code",
   "execution_count": 150,
   "id": "aaf1ade8",
   "metadata": {},
   "outputs": [
    {
     "data": {
      "text/plain": [
       "Index(['Hectare', 'Shift', 'Date', 'Anonymized Sighter',\n",
       "       'Sighter Observed Weather Data', 'Litter', 'Other Animal Sightings',\n",
       "       'Hectare Conditions', 'Number of sighters', 'Number of Squirrels',\n",
       "       'Total Time of Sighting'],\n",
       "      dtype='object')"
      ]
     },
     "execution_count": 150,
     "metadata": {},
     "output_type": "execute_result"
    }
   ],
   "source": [
    "df.columns"
   ]
  },
  {
   "cell_type": "code",
   "execution_count": 151,
   "id": "be00c968",
   "metadata": {},
   "outputs": [
    {
     "data": {
      "text/plain": [
       "0      1.100000e+02\n",
       "1      1.770000e+02\n",
       "2      1.100000e+01\n",
       "3      1.090000e+02\n",
       "4      2.410000e+02\n",
       "           ...     \n",
       "695    1.791802e+08\n",
       "696    1.680000e+02\n",
       "697    1.061071e+02\n",
       "698    1.061071e+02\n",
       "699    1.850000e+02\n",
       "Name: Anonymized Sighter, Length: 700, dtype: float64"
      ]
     },
     "execution_count": 151,
     "metadata": {},
     "output_type": "execute_result"
    }
   ],
   "source": [
    "df['Anonymized Sighter']"
   ]
  },
  {
   "cell_type": "code",
   "execution_count": 152,
   "id": "6ccc2753",
   "metadata": {},
   "outputs": [
    {
     "data": {
      "text/plain": [
       "Index(['Hectare', 'Shift', 'Date', 'Anonymized Sighter',\n",
       "       'Sighter Observed Weather Data', 'Litter', 'Other Animal Sightings',\n",
       "       'Hectare Conditions', 'Number of sighters', 'Number of Squirrels',\n",
       "       'Total Time of Sighting'],\n",
       "      dtype='object')"
      ]
     },
     "execution_count": 152,
     "metadata": {},
     "output_type": "execute_result"
    }
   ],
   "source": [
    "df.columns"
   ]
  },
  {
   "cell_type": "code",
   "execution_count": 153,
   "id": "f17bc25a",
   "metadata": {},
   "outputs": [
    {
     "name": "stdout",
     "output_type": "stream",
     "text": [
      "<class 'pandas.core.frame.DataFrame'>\n",
      "RangeIndex: 700 entries, 0 to 699\n",
      "Data columns (total 11 columns):\n",
      " #   Column                         Non-Null Count  Dtype  \n",
      "---  ------                         --------------  -----  \n",
      " 0   Hectare                        700 non-null    object \n",
      " 1   Shift                          700 non-null    object \n",
      " 2   Date                           700 non-null    int64  \n",
      " 3   Anonymized Sighter             700 non-null    float64\n",
      " 4   Sighter Observed Weather Data  700 non-null    object \n",
      " 5   Litter                         700 non-null    object \n",
      " 6   Other Animal Sightings         700 non-null    object \n",
      " 7   Hectare Conditions             700 non-null    object \n",
      " 8   Number of sighters             700 non-null    int64  \n",
      " 9   Number of Squirrels            700 non-null    int64  \n",
      " 10  Total Time of Sighting         700 non-null    float64\n",
      "dtypes: float64(2), int64(3), object(6)\n",
      "memory usage: 60.3+ KB\n"
     ]
    }
   ],
   "source": [
    "df.info()"
   ]
  },
  {
   "cell_type": "code",
   "execution_count": 154,
   "id": "b0c4edf6",
   "metadata": {},
   "outputs": [
    {
     "data": {
      "image/png": "[encoded data removed]",
      "text/plain": [
       "<Figure size 640x480 with 1 Axes>"
      ]
     },
     "metadata": {},
     "output_type": "display_data"
    }
   ],
   "source": [
    "grouped = df.groupby('Hectare')['Number of Squirrels'].sum().reset_index().sort_values(by ='Number of Squirrels',ascending=False).head(10)\n",
    "sns.barplot(\n",
    "    x = 'Hectare',\n",
    "    y = 'Number of Squirrels',\n",
    "    data = grouped,\n",
    "    hue = 'Hectare',\n",
    "    legend= False,\n",
    "    palette= 'pastel'\n",
    ")\n",
    "plt.title('10 Hectare with Most squirrels Activity')\n",
    "plt.xlabel(\"Hectare\")\n",
    "plt.ylabel(\"Number of Squirrels\")\n",
    "plt.tight_layout()\n",
    "plt.show()\n"
   ]
  },
  {
   "cell_type": "code",
   "execution_count": 155,
   "id": "7f885e43",
   "metadata": {},
   "outputs": [
    {
     "data": {
      "image/png": "[encoded data removed]",
      "text/plain": [
       "<Figure size 800x900 with 1 Axes>"
      ]
     },
     "metadata": {},
     "output_type": "display_data"
    }
   ],
   "source": [
    "time = df['Shift'].value_counts()\n",
    "sns.set(style='whitegrid')\n",
    "plt.figure(figsize=(8,9))\n",
    "plt.pie(\n",
    "    time,\n",
    "    labels=time.index,\n",
    "    autopct='%1.1f%%',\n",
    "    startangle=90,\n",
    "    colors=sns.color_palette('coolwarm')\n",
    ")\n",
    "plt.title(\"Session Conducted in AM or PM\",fontsize = 16)\n",
    "plt.show()"
   ]
  },
  {
   "cell_type": "code",
   "execution_count": 156,
   "id": "e1e871a8",
   "metadata": {},
   "outputs": [
    {
     "data": {
      "image/png": "[encoded data removed]",
      "text/plain": [
       "<Figure size 640x480 with 1 Axes>"
      ]
     },
     "metadata": {},
     "output_type": "display_data"
    }
   ],
   "source": [
    "grouped = df['Hectare Conditions'].value_counts(ascending=True).reset_index()\n",
    "sns.barplot(\n",
    "    x = 'Hectare Conditions',\n",
    "    y = 'count',\n",
    "    data = grouped,\n",
    "    palette='coolwarm',\n",
    "    hue = 'Hectare Conditions',\n",
    "    legend=False\n",
    ")\n",
    "plt.title(\"Hectare Conditions\")\n",
    "plt.ylabel(\"Number of Hectare\")\n",
    "plt.tight_layout()\n",
    "plt.show()"
   ]
  },
  {
   "cell_type": "markdown",
   "id": "05ac7361",
   "metadata": {},
   "source": [
    "Squirrel activity by time of day - Compare AM vs PM shifts to see when squirrels are more active"
   ]
  },
  {
   "cell_type": "code",
   "execution_count": 157,
   "id": "56481a5b",
   "metadata": {},
   "outputs": [
    {
     "data": {
      "image/png": "[encoded data removed]",
      "text/plain": [
       "<Figure size 600x700 with 1 Axes>"
      ]
     },
     "metadata": {},
     "output_type": "display_data"
    }
   ],
   "source": [
    "df.columns\n",
    "grouped = df.groupby('Shift')['Number of Squirrels'].sum()\n",
    "sns.set(style='whitegrid')\n",
    "plt.figure(figsize=(6,7))\n",
    "plt.pie(\n",
    "    x = grouped,\n",
    "    labels=grouped.index,\n",
    "    autopct='%1.1f%%',\n",
    "    startangle=90,\n",
    "    colors=sns.color_palette(\"pastel\")\n",
    ")\n",
    "plt.title(\"Squirrels Activity by time of Day\")\n",
    "plt.show()"
   ]
  },
  {
   "cell_type": "code",
   "execution_count": 161,
   "id": "ecbd295c",
   "metadata": {},
   "outputs": [],
   "source": [
    "def get_month(date_str):\n",
    "    try:\n",
    "        date_obj = datetime.strptime(str(date_str), \"%d%m%Y\")\n",
    "        return date_obj.strftime(\"%b\")  # short month like Sep, Oct, Aug\n",
    "    except:\n",
    "        return None  # in case of bad data\n",
    "\n",
    "df['Month'] = df['Date'].apply(get_month)"
   ]
  },
  {
   "cell_type": "code",
   "execution_count": 168,
   "id": "a5b88d9f",
   "metadata": {},
   "outputs": [
    {
     "data": {
      "image/png": "[encoded data removed]",
      "text/plain": [
       "<Figure size 640x480 with 1 Axes>"
      ]
     },
     "metadata": {},
     "output_type": "display_data"
    }
   ],
   "source": [
    "grouped = df.groupby('Month')['Number of Squirrels'].sum().reset_index()\n",
    "sns.barplot(\n",
    "    x = 'Month',\n",
    "    y = 'Number of Squirrels',\n",
    "    data = grouped,\n",
    "    hue = 'Month',\n",
    "    legend = False,\n",
    "    palette='pastel'\n",
    ")\n",
    "plt.title(\"Squirrels in Diff Months\")\n",
    "plt.xlabel(\"Month\")\n",
    "plt.ylabel(\"Number of Squirrels\")\n",
    "plt.tight_layout()\n",
    "plt.show()"
   ]
  },
  {
   "cell_type": "code",
   "execution_count": 172,
   "id": "fa2a6bb6",
   "metadata": {},
   "outputs": [
    {
     "data": {
      "image/png": "[encoded data removed]",
      "text/plain": [
       "<Figure size 640x480 with 1 Axes>"
      ]
     },
     "metadata": {},
     "output_type": "display_data"
    }
   ],
   "source": [
    "grouped = df.groupby('Hectare Conditions')['Number of Squirrels'].sum().reset_index()\n",
    "sns.barplot(\n",
    "    x = 'Hectare Conditions',\n",
    "    y = 'Number of Squirrels',\n",
    "    data = grouped,\n",
    "    hue = 'Hectare Conditions',\n",
    "    legend = False,\n",
    "    palette='pastel'\n",
    ")\n",
    "plt.title(\"Activity of Squirrels in diff Hectare conditions\")\n",
    "plt.xlabel(\"Hectare conditions\")\n",
    "plt.ylabel(\"Number of Squirrels\")\n",
    "plt.tight_layout()\n",
    "plt.show()\n"
   ]
  },
  {
   "cell_type": "code",
   "execution_count": null,
   "id": "3f5929ef",
   "metadata": {},
   "outputs": [],
   "source": []
  }
 ],
 "metadata": {
  "kernelspec": {
   "display_name": ".venv",
   "language": "python",
   "name": "python3"
  },
  "language_info": {
   "codemirror_mode": {
    "name": "ipython",
    "version": 3
   },
   "file_extension": ".py",
   "mimetype": "text/x-python",
   "name": "python",
   "nbconvert_exporter": "python",
   "pygments_lexer": "ipython3",
   "version": "3.12.3"
  }
 },
 "nbformat": 4,
 "nbformat_minor": 5
}
